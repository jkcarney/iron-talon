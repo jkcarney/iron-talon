{
 "cells": [
  {
   "cell_type": "code",
   "execution_count": 5,
   "metadata": {},
   "outputs": [],
   "source": [
    "import opendota\n",
    "import time\n",
    "import sqlite3"
   ]
  },
  {
   "cell_type": "code",
   "execution_count": 2,
   "metadata": {},
   "outputs": [],
   "source": [
    "conn = sqlite3.connect('dota_matches.db')\n",
    "cursor = conn.cursor()\n",
    "cursor.execute('''\n",
    "    CREATE TABLE IF NOT EXISTS match_moves (\n",
    "        id INTEGER PRIMARY KEY AUTOINCREMENT,\n",
    "        choice TEXT,\n",
    "        hero_id INTEGER,\n",
    "        team TEXT,\n",
    "        move_order INTEGER,\n",
    "        match_id INTEGER,\n",
    "        winner TEXT\n",
    "    )\n",
    "''')\n",
    "conn.commit()"
   ]
  },
  {
   "cell_type": "code",
   "execution_count": null,
   "metadata": {},
   "outputs": [
    {
     "name": "stderr",
     "output_type": "stream",
     "text": [
      "Could not fetch '/matches/8098261383' (Internal Server Error).\n"
     ]
    },
    {
     "name": "stdout",
     "output_type": "stream",
     "text": [
      "Expecting value: line 1 column 1 (char 0)\n"
     ]
    }
   ],
   "source": [
    "# under the picks_bans key\n",
    "\n",
    "# match id\n",
    "# type - pick/ban\n",
    "# order - 0,1,2,3 etc for all picks or bans\n",
    "# hero id - hero id\n",
    "# team - radiant/dire\n",
    "master_max_retries = 2500\n",
    "current_retries_cnt = 0\n",
    "try:\n",
    "    current_min_matchid = 8190370913\n",
    "    for _ in range(1000):\n",
    "        match_infos = client.get_pro_matches(match_id=current_min_matchid)\n",
    "        time.sleep(0.2)\n",
    "        for mi in match_infos:\n",
    "            id = mi['match_id']\n",
    "            winner = 'radiant' if mi['radiant_win'] else 'dire'\n",
    "\n",
    "            # Retry logic for client.get_match up to 5 times\n",
    "            match = None\n",
    "            for _ in range(5):\n",
    "                current_retries_cnt += 1\n",
    "                match = client.get_match(str(id))\n",
    "                if match is not None:\n",
    "                    break\n",
    "                time.sleep(0.5) \n",
    "\n",
    "            if current_retries_cnt > master_max_retries:\n",
    "                raise Exception(\"Woah doggy, why so many internal errors, lets not pay a gazillion dollars to opendota\")\n",
    "\n",
    "            # If still no match, continue to next iteration\n",
    "            if match is None:\n",
    "                continue\n",
    "\n",
    "            # not captains draft? \n",
    "            if \"picks_bans\" not in match:\n",
    "                continue\n",
    "\n",
    "            draft_order = match[\"picks_bans\"]\n",
    "\n",
    "            for move in draft_order:\n",
    "                choice = \"pick\" if move[\"is_pick\"] else \"ban\"\n",
    "                hero_id = move[\"hero_id\"]\n",
    "                team = 'radiant' if move[\"team\"] == 0 else 'dire'\n",
    "                order = move[\"order\"]\n",
    "\n",
    "                cursor.execute('''\n",
    "                    INSERT INTO match_moves (choice, hero_id, team, move_order, match_id, winner)\n",
    "                    VALUES (?, ?, ?, ?, ?, ?)\n",
    "                ''', (choice, hero_id, team, order, id, winner))\n",
    "                conn.commit()\n",
    "                \n",
    "            time.sleep(0.2)\n",
    "        current_min_matchid = mi[\"match_id\"]\n",
    "\n",
    "    conn.close()\n",
    "except Exception as e:\n",
    "    print(e)\n",
    "finally:\n",
    "    conn.close()"
   ]
  },
  {
   "cell_type": "code",
   "execution_count": 3,
   "metadata": {},
   "outputs": [
    {
     "name": "stdout",
     "output_type": "stream",
     "text": [
      "            id choice  hero_id     team  move_order    match_id   winner\n",
      "847682  847683   pick      109  radiant          22  7500239759     dire\n",
      "847683  847684   pick       19     dire          23  7500239759     dire\n",
      "847684  847685    ban      102  radiant           0  7500225480  radiant\n",
      "847685  847686    ban      112     dire           1  7500225480  radiant\n",
      "847686  847687    ban       37     dire           2  7500225480  radiant\n",
      "847687  847688    ban       72  radiant           3  7500225480  radiant\n",
      "847688  847689    ban      137     dire           4  7500225480  radiant\n",
      "847689  847690    ban       86     dire           5  7500225480  radiant\n",
      "847690  847691    ban       41  radiant           6  7500225480  radiant\n",
      "847691  847692   pick       91  radiant           7  7500225480  radiant\n",
      "847692  847693   pick       58     dire           8  7500225480  radiant\n",
      "847693  847694    ban       42  radiant           9  7500225480  radiant\n",
      "847694  847695    ban       11  radiant          10  7500225480  radiant\n",
      "847695  847696    ban       54     dire          11  7500225480  radiant\n",
      "847696  847697   pick      119     dire          12  7500225480  radiant\n",
      "847697  847698   pick       90  radiant          13  7500225480  radiant\n",
      "847698  847699   pick       21  radiant          14  7500225480  radiant\n",
      "847699  847700   pick       71     dire          15  7500225480  radiant\n",
      "847700  847701   pick       67     dire          16  7500225480  radiant\n",
      "847701  847702   pick       60  radiant          17  7500225480  radiant\n",
      "847702  847703    ban       76  radiant          18  7500225480  radiant\n",
      "847703  847704    ban       93     dire          19  7500225480  radiant\n",
      "847704  847705    ban       81     dire          20  7500225480  radiant\n",
      "847705  847706    ban       22  radiant          21  7500225480  radiant\n",
      "847706  847707   pick       46  radiant          22  7500225480  radiant\n",
      "847707  847708   pick       64     dire          23  7500225480  radiant\n",
      "847708  847709    ban       11     dire           0  7500212509     dire\n",
      "847709  847710    ban       97  radiant           1  7500212509     dire\n",
      "847710  847711    ban      136  radiant           2  7500212509     dire\n",
      "847711  847712    ban        8     dire           3  7500212509     dire\n",
      "847712  847713    ban        9  radiant           4  7500212509     dire\n",
      "847713  847714    ban       88  radiant           5  7500212509     dire\n",
      "847714  847715    ban       53     dire           6  7500212509     dire\n",
      "847715  847716   pick        5     dire           7  7500212509     dire\n",
      "847716  847717   pick       84  radiant           8  7500212509     dire\n",
      "847717  847718    ban       22     dire           9  7500212509     dire\n",
      "847718  847719    ban       21     dire          10  7500212509     dire\n",
      "847719  847720    ban       55  radiant          11  7500212509     dire\n",
      "847720  847721   pick       72  radiant          12  7500212509     dire\n",
      "847721  847722   pick       26     dire          13  7500212509     dire\n",
      "847722  847723   pick       71     dire          14  7500212509     dire\n",
      "847723  847724   pick      102  radiant          15  7500212509     dire\n",
      "847724  847725   pick       43  radiant          16  7500212509     dire\n",
      "847725  847726   pick       39     dire          17  7500212509     dire\n",
      "847726  847727    ban       40     dire          18  7500212509     dire\n",
      "847727  847728    ban       38  radiant          19  7500212509     dire\n",
      "847728  847729    ban       91  radiant          20  7500212509     dire\n",
      "847729  847730    ban        1     dire          21  7500212509     dire\n",
      "847730  847731   pick       54     dire          22  7500212509     dire\n",
      "847731  847732   pick       46  radiant          23  7500212509     dire\n"
     ]
    }
   ],
   "source": [
    "import pandas as pd\n",
    "con = sqlite3.connect(\"dota_matches.db\")\n",
    "df = pd.read_sql_query(\"SELECT * from match_moves\", con)\n",
    "print(df.tail(50))\n",
    "con.close()"
   ]
  },
  {
   "cell_type": "code",
   "execution_count": 4,
   "metadata": {},
   "outputs": [
    {
     "data": {
      "text/plain": [
       "35395"
      ]
     },
     "execution_count": 4,
     "metadata": {},
     "output_type": "execute_result"
    }
   ],
   "source": [
    "len(df['match_id'].unique())"
   ]
  }
 ],
 "metadata": {
  "kernelspec": {
   "display_name": "venv",
   "language": "python",
   "name": "python3"
  },
  "language_info": {
   "codemirror_mode": {
    "name": "ipython",
    "version": 3
   },
   "file_extension": ".py",
   "mimetype": "text/x-python",
   "name": "python",
   "nbconvert_exporter": "python",
   "pygments_lexer": "ipython3",
   "version": "3.12.3"
  }
 },
 "nbformat": 4,
 "nbformat_minor": 2
}
